{
  "nbformat": 4,
  "nbformat_minor": 0,
  "metadata": {
    "colab": {
      "name": "Simplebusbasics",
      "provenance": [],
      "authorship_tag": "ABX9TyOuGG+a+92b5fRukT1iUZLZ",
      "include_colab_link": true
    },
    "kernelspec": {
      "name": "python3",
      "display_name": "Python 3"
    }
  },
  "cells": [
    {
      "cell_type": "markdown",
      "metadata": {
        "id": "view-in-github",
        "colab_type": "text"
      },
      "source": [
        "<a href=\"https://colab.research.google.com/github/akshay-rachakonda/android-app-for-relation-dynamics/blob/master/Simplebusbasics.ipynb\" target=\"_parent\"><img src=\"https://colab.research.google.com/assets/colab-badge.svg\" alt=\"Open In Colab\"/></a>"
      ]
    },
    {
      "cell_type": "code",
      "metadata": {
        "id": "wTkv7m52Vv8P"
      },
      "source": [
        "import pandapower as pp\n",
        "import pandapower.networks as nw"
      ],
      "execution_count": 3,
      "outputs": []
    },
    {
      "cell_type": "code",
      "metadata": {
        "id": "wjY5Pr_UV20k"
      },
      "source": [
        "net= nw.simple_four_bus_system()"
      ],
      "execution_count": 4,
      "outputs": []
    },
    {
      "cell_type": "code",
      "metadata": {
        "id": "Bh4nkHEoV9KU"
      },
      "source": [
        "pp.runpp(net)"
      ],
      "execution_count": 5,
      "outputs": []
    },
    {
      "cell_type": "code",
      "metadata": {
        "id": "YHMUbCAaWE4y",
        "outputId": "3b1c78b5-aae9-44fa-b89c-500bc20aaa38",
        "colab": {
          "base_uri": "https://localhost:8080/",
          "height": 104
        }
      },
      "source": [
        "print(net.res_bus)"
      ],
      "execution_count": 6,
      "outputs": [
        {
          "output_type": "stream",
          "text": [
            "      vm_pu  va_degree      p_mw    q_mvar\n",
            "0  1.000000   0.000000 -0.028256 -0.013475\n",
            "1  0.996608  -0.208127  0.000000  0.000000\n",
            "2  0.937760   0.992541  0.010000  0.005000\n",
            "3  0.902000   1.815913  0.015000  0.008000\n"
          ],
          "name": "stdout"
        }
      ]
    },
    {
      "cell_type": "code",
      "metadata": {
        "id": "vAlOQoj4Wa6Q",
        "outputId": "43f25de7-df9b-4b7e-baf5-eb8c5cfc1943",
        "colab": {
          "base_uri": "https://localhost:8080/",
          "height": 69
        }
      },
      "source": [
        "print(net.res_sgen)"
      ],
      "execution_count": 9,
      "outputs": [
        {
          "output_type": "stream",
          "text": [
            "    p_mw  q_mvar\n",
            "0  0.020   0.005\n",
            "1  0.015   0.002\n"
          ],
          "name": "stdout"
        }
      ]
    },
    {
      "cell_type": "code",
      "metadata": {
        "id": "P_KFtdr4Wx41",
        "outputId": "c168a83d-acda-47bd-bcb6-e83c1becb698",
        "colab": {
          "base_uri": "https://localhost:8080/",
          "height": 104
        }
      },
      "source": [
        "print(net.res_line)"
      ],
      "execution_count": 11,
      "outputs": [
        {
          "output_type": "stream",
          "text": [
            "   p_from_mw  q_from_mvar   p_to_mw  ...  vm_to_pu  va_to_degree  loading_percent\n",
            "0   0.027611     0.013328 -0.025713  ...   0.93776      0.992541        31.273099\n",
            "1   0.015713     0.008088 -0.015000  ...   0.90200      1.815913        19.157250\n",
            "\n",
            "[2 rows x 14 columns]\n"
          ],
          "name": "stdout"
        }
      ]
    },
    {
      "cell_type": "code",
      "metadata": {
        "id": "Cp73Sf1eWndt",
        "outputId": "df6e3c1c-6169-4d66-a19c-b6d570c1d96f",
        "colab": {
          "base_uri": "https://localhost:8080/",
          "height": 69
        }
      },
      "source": [
        "print(net.res_load)"
      ],
      "execution_count": 10,
      "outputs": [
        {
          "output_type": "stream",
          "text": [
            "   p_mw  q_mvar\n",
            "0  0.03    0.01\n",
            "1  0.03    0.01\n"
          ],
          "name": "stdout"
        }
      ]
    }
  ]
}